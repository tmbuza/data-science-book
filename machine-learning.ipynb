{
 "cells": [
  {
   "cell_type": "markdown",
   "metadata": {},
   "source": [
    "# (PART) MACHINE LEARNING {-}\n",
    "\n",
    "# How to Perform Logistic Regression in Python and R?\n",
    "\n",
    "## Explanation\n",
    "\n",
    "**Logistic Regression** is a statistical method used for binary classification. It models the relationship between a dependent variable (binary outcome, e.g., 0 or 1) and one or more independent variables. The logistic regression equation is:\n",
    "\n",
    "\\[\n",
    "\\log\\left(\\frac{p}{1 - p}\\right) = \\beta_0 + \\beta_1 X_1 + \\beta_2 X_2 + \\dots + \\beta_n X_n\n",
    "\\]\n",
    "\n",
    "Where:\n",
    "- \\( p \\) is the probability of the dependent event occurring (i.e., the probability that the output is 1),\n",
    "- \\( X_1, X_2, \\dots, X_n \\) are the independent variables (predictors),\n",
    "- \\( \\beta_0 \\) is the intercept,\n",
    "- \\( \\beta_1, \\beta_2, \\dots, \\beta_n \\) are the coefficients (slopes) for the predictors.\n",
    "\n",
    "The model estimates the odds of the event occurring by taking the log of the odds ratio. The predicted probabilities are obtained using the logistic function, which is:\n",
    "\n",
    "\\[\n",
    "p = \\frac{1}{1 + e^{-z}}\n",
    "\\]\n",
    "\n",
    "Where \\( z = \\beta_0 + \\beta_1 X_1 + \\beta_2 X_2 + \\dots + \\beta_n X_n \\).\n",
    "\n",
    "If the p-value of a coefficient is small (typically \\( p < 0.05 \\)), we reject the null hypothesis and conclude that the predictor significantly influences the outcome.\n",
    "\n",
    "\n",
    "```{r, echo=FALSE, include=FALSE}\n",
    "knitr::opts_chunk$set(\n",
    "  echo  =TRUE,\n",
    "  message  =FALSE,\n",
    "  warning  =FALSE,\n",
    "  cache  =FALSE,\n",
    "  comment  =NA\n",
    ")\n",
    "\n",
    "if(!require(\"tidyverse\")) {\n",
    "  install.packages(\"tidyverse\")\n",
    "  library(tidyverse)}\n",
    "```\n",
    "\n",
    "\n",
    "## Python Code\n",
    "\n"
   ]
  },
  {
   "cell_type": "code",
   "execution_count": 9,
   "metadata": {},
   "outputs": [
    {
     "name": "stdout",
     "output_type": "stream",
     "text": [
      "Accuracy: 1.0\n",
      "Confusion Matrix:\n",
      " [[26  0]\n",
      " [ 0 19]]\n"
     ]
    }
   ],
   "source": [
    "import pandas as pd\n",
    "from sklearn.model_selection import train_test_split\n",
    "from sklearn.linear_model import LogisticRegression\n",
    "from sklearn.metrics import accuracy_score, confusion_matrix\n",
    "\n",
    "# Load dataset (you can use any binary classification dataset)\n",
    "df = pd.read_csv(\"data/iris.csv\")\n",
    "\n",
    "# Select independent variables (predictors)\n",
    "X = df[['sepal_length', 'sepal_width', 'petal_length', 'petal_width']]  # Predictors\n",
    "\n",
    "# Create a binary dependent variable (response)\n",
    "df['is_setosa'] = (df['species'] == 'setosa').astype(int)  # Convert 'setosa' to 1, others to 0\n",
    "y = df['is_setosa']  # Target variable\n",
    "\n",
    "# Split data into training and testing sets\n",
    "X_train, X_test, y_train, y_test = train_test_split(X, y, test_size=0.3, random_state=42)\n",
    "\n",
    "# Fit the logistic regression model\n",
    "model = LogisticRegression()\n",
    "model.fit(X_train, y_train)\n",
    "\n",
    "# Make predictions\n",
    "y_pred = model.predict(X_test)\n",
    "\n",
    "# Evaluate the model\n",
    "print(\"Accuracy:\", accuracy_score(y_test, y_pred))\n",
    "print(\"Confusion Matrix:\\n\", confusion_matrix(y_test, y_pred))"
   ]
  },
  {
   "cell_type": "markdown",
   "metadata": {},
   "source": [
    "## R Code\n",
    "\n",
    "```{r message=FALSE, warning=FALSE, comment=NA}\n",
    "# Import necessary libraries\n",
    "library(readr)   # For reading data\n",
    "library(caret)   # For model training and evaluation\n",
    "library(dplyr)   # For data manipulation\n",
    "\n",
    "# Load dataset with show_col_types = FALSE\n",
    "df <- read_csv(\"data/iris.csv\", show_col_types = FALSE)\n",
    "\n",
    "# Select independent variables (predictors)\n",
    "X <- df %>% select(sepal_length, sepal_width, petal_length, petal_width)\n",
    "\n",
    "# Create a binary dependent variable (response)\n",
    "df$is_setosa <- ifelse(df$species == 'setosa', 1, 0)  # Convert 'setosa' to 1, others to 0\n",
    "y <- df$is_setosa  # Target variable\n",
    "\n",
    "# Split data into training and testing sets (70% training, 30% testing)\n",
    "set.seed(42)  # For reproducibility\n",
    "trainIndex <- createDataPartition(y, p = 0.7, list = FALSE)\n",
    "X_train <- X[trainIndex, ]\n",
    "y_train <- y[trainIndex]\n",
    "X_test <- X[-trainIndex, ]\n",
    "y_test <- y[-trainIndex]\n",
    "\n",
    "# Fit the logistic regression model\n",
    "model <- glm(is_setosa ~ sepal_length + sepal_width + petal_length + petal_width, \n",
    "             data = df[trainIndex, ], family = binomial())\n",
    "\n",
    "# Make predictions on the test set\n",
    "y_pred_prob <- predict(model, X_test, type = \"response\")\n",
    "y_pred <- ifelse(y_pred_prob > 0.5, 1, 0)  # Convert probabilities to binary outcomes\n",
    "\n",
    "# Evaluate the model\n",
    "accuracy <- mean(y_pred == y_test)\n",
    "conf_matrix <- table(Predicted = y_pred, Actual = y_test)\n",
    "\n",
    "# Print results\n",
    "cat(\"Accuracy:\", accuracy, \"\\n\")\n",
    "\n",
    "print(conf_matrix)\n",
    "```"
   ]
  },
  {
   "cell_type": "markdown",
   "metadata": {},
   "source": [
    "# How to Perform Support Vector Machine (SVM) Classification in Python and R?\n",
    "\n",
    "## Explanation\n",
    "\n",
    "**Support Vector Machine (SVM)** is a powerful supervised learning algorithm that can be used for both classification and regression tasks. It works by finding the hyperplane that best separates data points of different classes in a high-dimensional space.\n",
    "\n",
    "- **Linear SVM**: Finds a straight line or hyperplane that divides the classes.\n",
    "- **Non-linear SVM**: Uses kernel functions (like Radial Basis Function (RBF)) to transform the data into higher dimensions to make it linearly separable.\n",
    "\n",
    "The main objective of SVM is to maximize the margin between the two classes. The margin is the distance between the hyperplane and the closest data points from either class, known as support vectors.\n",
    "\n",
    "The SVM classifier works well for both linear and non-linear classification problems.\n",
    "\n",
    "## Python Code\n",
    "\n"
   ]
  },
  {
   "cell_type": "code",
   "execution_count": 12,
   "metadata": {},
   "outputs": [
    {
     "name": "stdout",
     "output_type": "stream",
     "text": [
      "Accuracy: 1.0\n",
      "Confusion Matrix:\n",
      " [[19  0  0]\n",
      " [ 0 13  0]\n",
      " [ 0  0 13]]\n"
     ]
    }
   ],
   "source": [
    "import pandas as pd\n",
    "from sklearn.model_selection import train_test_split\n",
    "from sklearn.svm import SVC\n",
    "from sklearn.metrics import accuracy_score, confusion_matrix\n",
    "\n",
    "# Load dataset (you can use any dataset)\n",
    "df = pd.read_csv(\"data/iris.csv\")\n",
    "\n",
    "# Select independent variables (predictors)\n",
    "X = df[['sepal_length', 'sepal_width', 'petal_length', 'petal_width']]  # Features\n",
    "\n",
    "# Select target variable (species)\n",
    "y = df['species']  # Target\n",
    "\n",
    "# Split data into training and testing sets\n",
    "X_train, X_test, y_train, y_test = train_test_split(X, y, test_size=0.3, random_state=42)\n",
    "\n",
    "# Fit the SVM classifier\n",
    "model = SVC(kernel='linear', random_state=42)\n",
    "model.fit(X_train, y_train)\n",
    "\n",
    "# Make predictions\n",
    "y_pred = model.predict(X_test)\n",
    "\n",
    "# Evaluate the model\n",
    "print(\"Accuracy:\", accuracy_score(y_test, y_pred))\n",
    "print(\"Confusion Matrix:\\n\", confusion_matrix(y_test, y_pred))"
   ]
  },
  {
   "cell_type": "markdown",
   "metadata": {},
   "source": [
    "## R Code\n"
   ]
  }
 ],
 "metadata": {
  "kernelspec": {
   "display_name": "base",
   "language": "python",
   "name": "python3"
  },
  "language_info": {
   "codemirror_mode": {
    "name": "ipython",
    "version": 3
   },
   "file_extension": ".py",
   "mimetype": "text/x-python",
   "name": "python",
   "nbconvert_exporter": "python",
   "pygments_lexer": "ipython3",
   "version": "3.11.5"
  }
 },
 "nbformat": 4,
 "nbformat_minor": 2
}
