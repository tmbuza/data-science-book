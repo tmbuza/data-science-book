{
 "cells": [
  {
   "cell_type": "markdown",
   "metadata": {},
   "source": [
    "# (PART) STATISTICAL ANALYSIS {-}\n",
    "\n",
    "# How to Perform Statistical Analysis in Python and R?\n",
    "\n",
    "## Explanation\n",
    "\n",
    "Statistical analysis helps us understand the characteristics of our dataset, identify patterns, and make data-driven decisions. In this section, we will cover basic statistical measures such as mean, median, variance, and correlation.\n",
    "\n",
    "```{r, echo=FALSE, include=FALSE}\n",
    "knitr::opts_chunk$set(\n",
    "  echo  =TRUE,\n",
    "  message  =FALSE,\n",
    "  warning  =FALSE,\n",
    "  cache  =FALSE,\n",
    "  comment  =NA\n",
    ")\n",
    "\n",
    "if(!require(\"tidyverse\")) {\n",
    "  install.packages(\"tidyverse\")\n",
    "  library(tidyverse)}\n",
    "```\n",
    "\n",
    "## Python Code"
   ]
  },
  {
   "cell_type": "code",
   "execution_count": 1,
   "metadata": {},
   "outputs": [
    {
     "name": "stdout",
     "output_type": "stream",
     "text": [
      "Summary Statistics:\n",
      "        sepal_length  sepal_width  petal_length  petal_width\n",
      "count    150.000000   150.000000    150.000000   150.000000\n",
      "mean       5.843333     3.057333      3.758000     1.199333\n",
      "std        0.828066     0.435866      1.765298     0.762238\n",
      "min        4.300000     2.000000      1.000000     0.100000\n",
      "25%        5.100000     2.800000      1.600000     0.300000\n",
      "50%        5.800000     3.000000      4.350000     1.300000\n",
      "75%        6.400000     3.300000      5.100000     1.800000\n",
      "max        7.900000     4.400000      6.900000     2.500000\n",
      "\n",
      "Variance:\n",
      " sepal_length    0.685694\n",
      "sepal_width     0.189979\n",
      "petal_length    3.116278\n",
      "petal_width     0.581006\n",
      "dtype: float64\n",
      "\n",
      "Correlation:\n",
      "               sepal_length  sepal_width  petal_length  petal_width\n",
      "sepal_length      1.000000    -0.117570      0.871754     0.817941\n",
      "sepal_width      -0.117570     1.000000     -0.428440    -0.366126\n",
      "petal_length      0.871754    -0.428440      1.000000     0.962865\n",
      "petal_width       0.817941    -0.366126      0.962865     1.000000\n"
     ]
    }
   ],
   "source": [
    "import pandas as pd\n",
    "\n",
    "# Load dataset\n",
    "df = pd.read_csv(\"data/iris.csv\")\n",
    "\n",
    "# Summary statistics\n",
    "summary_stats = df.describe()\n",
    "\n",
    "# Calculate variance for numerical columns\n",
    "variance = df.var(numeric_only=True)\n",
    "\n",
    "# Calculate correlation between numerical variables\n",
    "correlation = df.corr(numeric_only=True)\n",
    "\n",
    "# Display results\n",
    "print(\"Summary Statistics:\\n\", summary_stats)\n",
    "print(\"\\nVariance:\\n\", variance)\n",
    "print(\"\\nCorrelation:\\n\", correlation)"
   ]
  },
  {
   "cell_type": "markdown",
   "metadata": {},
   "source": [
    "## R Code\n",
    "\n",
    "```{r}\n",
    "# Load dataset\n",
    "df <- read.csv(\"data/iris.csv\")\n",
    "\n",
    "# Summary statistics\n",
    "summary_stats <- summary(df)\n",
    "\n",
    "# Calculate variance for numerical columns\n",
    "variance <- apply(df[, 1:4], 2, var)\n",
    "\n",
    "# Calculate correlation between numerical variables\n",
    "correlation <- cor(df[, 1:4])\n",
    "\n",
    "# Display results\n",
    "print(\"Summary Statistics:\")\n",
    "print(summary_stats)\n",
    "print(\"\\nVariance:\")\n",
    "print(variance)\n",
    "print(\"\\nCorrelation:\")\n",
    "print(correlation)\n",
    "\n",
    "```"
   ]
  },
  {
   "cell_type": "markdown",
   "metadata": {},
   "source": [
    "# How to Calculate Skewness and Kurtosis in Python and R?\n",
    "\n",
    "## Explanation\n",
    "\n",
    "Skewness and kurtosis help us understand the distribution of data.  \n",
    "- **Skewness** measures the asymmetry of the data distribution. A skewness of 0 indicates a perfectly symmetric distribution.  \n",
    "- **Kurtosis** measures the \"tailedness\" of the distribution. A normal distribution has a kurtosis of 3. Values greater than 3 indicate heavy tails, while values less than 3 indicate light tails.\n",
    "\n",
    "## Python Code\n",
    "\n"
   ]
  },
  {
   "cell_type": "code",
   "execution_count": 3,
   "metadata": {},
   "outputs": [
    {
     "name": "stdout",
     "output_type": "stream",
     "text": [
      "Skewness:\n",
      " sepal_length    0.311753\n",
      "sepal_width     0.315767\n",
      "petal_length   -0.272128\n",
      "petal_width    -0.101934\n",
      "dtype: float64\n",
      "\n",
      "Kurtosis:\n",
      " sepal_length   -0.573568\n",
      "sepal_width     0.180976\n",
      "petal_length   -1.395536\n",
      "petal_width    -1.336067\n",
      "dtype: float64\n"
     ]
    }
   ],
   "source": [
    "import pandas as pd\n",
    "from scipy.stats import skew, kurtosis\n",
    "\n",
    "# Load dataset\n",
    "df = pd.read_csv(\"data/iris.csv\")\n",
    "\n",
    "# Compute skewness\n",
    "skewness = df.iloc[:, :-1].apply(skew)\n",
    "\n",
    "# Compute kurtosis\n",
    "kurt = df.iloc[:, :-1].apply(kurtosis)\n",
    "\n",
    "# Display results\n",
    "print(\"Skewness:\\n\", skewness)\n",
    "print(\"\\nKurtosis:\\n\", kurt)"
   ]
  },
  {
   "cell_type": "markdown",
   "metadata": {},
   "source": [
    "## R Code\n",
    "\n",
    "```{r}\n",
    "# Check and load necessary libraries from CRAN mirror\n",
    "if(!require(tidyverse)) install.packages(\"tidyverse\", dependencies = TRUE, repos = \"https://cloud.r-project.org/\")\n",
    "if(!require(e1071)) install.packages(\"e1071\", dependencies = TRUE, repos = \"https://cloud.r-project.org/\")\n",
    "\n",
    "library(tidyverse)\n",
    "library(e1071)\n",
    "\n",
    "# Load dataset\n",
    "df <- read_csv(\"data/iris.csv\")\n",
    "\n",
    "# Compute skewness and kurtosis\n",
    "skewness_values <- df %>%\n",
    "  select(-species) %>%\n",
    "  summarise(across(everything(), skewness))\n",
    "\n",
    "kurtosis_values <- df %>%\n",
    "  select(-species) %>%\n",
    "  summarise(across(everything(), kurtosis))\n",
    "\n",
    "# Display results\n",
    "print(\"Skewness:\")\n",
    "print(skewness_values)\n",
    "\n",
    "print(\"Kurtosis:\")\n",
    "print(kurtosis_values)\n",
    "```"
   ]
  },
  {
   "cell_type": "markdown",
   "metadata": {},
   "source": [
    "# How to Perform a t-test in Python and R?\n",
    "\n",
    "## Explanation\n",
    "\n",
    "**t-tests** are used to compare the means of two groups and determine whether they are significantly different from each other. In the iris dataset, we can compare the sepal length of two species to see if their means differ significantly.\n",
    "\n",
    "There are different types of t-tests:\n",
    "\n",
    "**Independent t-test**: Compares means between two independent groups.\n",
    "\n",
    "**Paired t-test**: Compares means from the same group at different time points.\n",
    "\n",
    "## Python Code\n",
    "\n",
    "In Python, we use **scipy.stats.ttest_ind()** for an independent t-test."
   ]
  },
  {
   "cell_type": "code",
   "execution_count": 5,
   "metadata": {},
   "outputs": [
    {
     "name": "stdout",
     "output_type": "stream",
     "text": [
      "t-statistic: -10.52098626754911, p-value: 8.985235037487079e-18\n"
     ]
    }
   ],
   "source": [
    "import pandas as pd\n",
    "from scipy import stats\n",
    "\n",
    "# Load dataset\n",
    "df = pd.read_csv(\"data/iris.csv\")\n",
    "\n",
    "# Filter two species for comparison\n",
    "setosa = df[df['species'] == 'setosa']['sepal_length']\n",
    "versicolor = df[df['species'] == 'versicolor']['sepal_length']\n",
    "\n",
    "# Perform independent t-test\n",
    "t_stat, p_value = stats.ttest_ind(setosa, versicolor)\n",
    "\n",
    "print(f\"t-statistic: {t_stat}, p-value: {p_value}\")"
   ]
  },
  {
   "cell_type": "markdown",
   "metadata": {},
   "source": [
    "# How to compute the mean, median, and mode of a dataset?\n",
    "\n",
    "## Explanation\n",
    "- **Mean**: The average of all values in the dataset.\n",
    "- **Median**: The middle value when the data is sorted.\n",
    "- **Mode**: The value that appears most frequently in the dataset.\n",
    "\n",
    "## Python Code\n"
   ]
  },
  {
   "cell_type": "code",
   "execution_count": 9,
   "metadata": {},
   "outputs": [
    {
     "name": "stdout",
     "output_type": "stream",
     "text": [
      "Mean:\n",
      "\n",
      "sepal_length    5.843333\n",
      "sepal_width     3.057333\n",
      "petal_length    3.758000\n",
      "petal_width     1.199333\n",
      "dtype: float64\n",
      "\n",
      "Median:\n",
      "\n",
      "sepal_length    5.80\n",
      "sepal_width     3.00\n",
      "petal_length    4.35\n",
      "petal_width     1.30\n",
      "dtype: float64\n",
      "\n",
      "Mode:\n",
      "\n",
      "sepal_length    5.0\n",
      "sepal_width     3.0\n",
      "petal_length    1.4\n",
      "petal_width     0.2\n",
      "Name: 0, dtype: float64\n"
     ]
    }
   ],
   "source": [
    "import pandas as pd\n",
    "\n",
    "# Load dataset\n",
    "df = pd.read_csv(\"data/iris.csv\")\n",
    "\n",
    "# Compute mean, median, and mode\n",
    "mean_values = df.drop(columns=[\"species\"]).mean()\n",
    "median_values = df.drop(columns=[\"species\"]).median()\n",
    "mode_values = df.drop(columns=[\"species\"]).mode().iloc[0]\n",
    "\n",
    "# Display results\n",
    "print(\"Mean:\\n\")\n",
    "print(mean_values)\n",
    "\n",
    "print(\"\\nMedian:\\n\")\n",
    "print(median_values)\n",
    "\n",
    "print(\"\\nMode:\\n\")\n",
    "print(mode_values)"
   ]
  },
  {
   "cell_type": "markdown",
   "metadata": {},
   "source": [
    "## R Code\n",
    "\n",
    "```{r}\n",
    "# Load necessary libraries\n",
    "library(tidyverse)\n",
    "\n",
    "# Load dataset\n",
    "df <- read_csv(\"data/iris.csv\")\n",
    "\n",
    "# Compute mean, median, and mode\n",
    "mean_values <- df %>%\n",
    "  select(-species) %>%\n",
    "  summarise(across(everything(), mean))\n",
    "\n",
    "median_values <- df %>%\n",
    "  select(-species) %>%\n",
    "  summarise(across(everything(), median))\n",
    "\n",
    "mode_values <- df %>%\n",
    "  select(-species) %>%\n",
    "  summarise(across(everything(), ~ names(sort(table(.), decreasing = TRUE))[1]))\n",
    "\n",
    "# Display results\n",
    "print(\"Mean:\")\n",
    "print(mean_values)\n",
    "\n",
    "print(\"Median:\")\n",
    "print(median_values)\n",
    "\n",
    "print(\"Mode:\")\n",
    "print(mode_values)\n",
    "\n",
    "```"
   ]
  }
 ],
 "metadata": {
  "kernelspec": {
   "display_name": "base",
   "language": "python",
   "name": "python3"
  },
  "language_info": {
   "codemirror_mode": {
    "name": "ipython",
    "version": 3
   },
   "file_extension": ".py",
   "mimetype": "text/x-python",
   "name": "python",
   "nbconvert_exporter": "python",
   "pygments_lexer": "ipython3",
   "version": "3.11.5"
  }
 },
 "nbformat": 4,
 "nbformat_minor": 2
}
