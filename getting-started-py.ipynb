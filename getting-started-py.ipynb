{
 "cells": [
  {
   "cell_type": "markdown",
   "metadata": {},
   "source": [
    "# (PART) GETTING STARTED {-}\n",
    "\n",
    "# How to Set Up Your Project Directory in Python and R {#set-project-dir}\n",
    "\n",
    "**Explanation**\n",
    "\n",
    "A well-organized project directory is key to efficient data science work. In this section, you will set up a project directory with separate folders for your datasets and scripts.\n",
    "\n",
    "```{r, echo=FALSE}\n",
    "knitr::opts_chunk$set(\n",
    "  echo  =TRUE,\n",
    "  message  =FALSE,\n",
    "  warning  =FALSE,\n",
    "  cache  =FALSE,\n",
    "  comment  =NA\n",
    ")\n",
    "\n",
    "if(!require(\"tidyverse\")) {\n",
    "  install.packages(\"tidyverse\")\n",
    "  library(tidyverse)}\n",
    "```\n",
    "\n",
    "## Python Code"
   ]
  },
  {
   "cell_type": "code",
   "execution_count": 1,
   "metadata": {},
   "outputs": [
    {
     "name": "stdout",
     "output_type": "stream",
     "text": [
      "Project directory structure created at ./\n"
     ]
    }
   ],
   "source": [
    "import os\n",
    "\n",
    "# Define project structure\n",
    "project_dir = './'\n",
    "data_dir = os.path.join(project_dir, 'data')\n",
    "scripts_dir = os.path.join(project_dir, 'scripts')\n",
    "# images_dir = os.path.join(project_dir, 'images')\n",
    "output_dir = os.path.join(project_dir, 'output')\n",
    "\n",
    "# Create directories\n",
    "os.makedirs(data_dir, exist_ok=True)\n",
    "os.makedirs(scripts_dir, exist_ok=True)\n",
    "# os.makedirs(images_dir, exist_ok=True)\n",
    "os.makedirs(output_dir, exist_ok=True)\n",
    "\n",
    "print(f\"Project directory structure created at {project_dir}\")"
   ]
  },
  {
   "cell_type": "markdown",
   "metadata": {},
   "source": [
    "## R Code\n",
    "\n",
    "```{r}\n",
    "# Define project structure\n",
    "project_dir <- \"./\"\n",
    "data_dir <- file.path(project_dir, \"data\")\n",
    "scripts_dir <- file.path(project_dir, \"scripts\")\n",
    "images_dir <- file.path(project_dir, \"images\")\n",
    "output_dir <- file.path(project_dir, \"output\")\n",
    "\n",
    "# Create directories\n",
    "dir.create(data_dir, showWarnings = FALSE)\n",
    "dir.create(scripts_dir, showWarnings = FALSE)\n",
    "dir.create(images_dir, showWarnings = FALSE)\n",
    "dir.create(output_dir, showWarnings = FALSE)\n",
    "\n",
    "cat(\"Project directory structure created at\", project_dir, \"\\n\")\n",
    "```"
   ]
  },
  {
   "cell_type": "markdown",
   "metadata": {},
   "source": [
    "# How to Save a Dataset in Python and R\n",
    "\n",
    "**Explanation**\n",
    "\n",
    "Saving datasets is essential for storing processed data, sharing results, and reusing data in later analysis. In Python, we commonly use pandas to save datasets in CSV format. In R, readr::write_csv() and write.csv() are common functions for saving datasets.\n",
    "\n",
    "## Python Code"
   ]
  },
  {
   "cell_type": "code",
   "execution_count": 2,
   "metadata": {},
   "outputs": [
    {
     "name": "stdout",
     "output_type": "stream",
     "text": [
      "Dataset saved as 'data/iris.csv'\n"
     ]
    }
   ],
   "source": [
    "import pandas as pd\n",
    "from sklearn.datasets import load_iris\n",
    "\n",
    "# Load the full iris dataset\n",
    "iris = load_iris(as_frame=True)  \n",
    "df = iris.frame  # Converts to DataFrame\n",
    "\n",
    "# Add species names\n",
    "df[\"species\"] = df[\"target\"].map({0: \"setosa\", 1: \"versicolor\", 2: \"virginica\"})\n",
    "\n",
    "# Save dataset with all columns\n",
    "df.to_csv(\"data/iris.csv\", index=False)\n",
    "\n",
    "print(\"Dataset saved as 'data/iris.csv'\")"
   ]
  },
  {
   "cell_type": "markdown",
   "metadata": {},
   "source": [
    "## R Code\n",
    "\n",
    "```{r}\n",
    "# Load necessary libraries\n",
    "library(readr)\n",
    "\n",
    "# Load the full iris dataset\n",
    "df <- datasets::iris\n",
    "\n",
    "# Save the dataset with species included using write_csv from readr\n",
    "write_csv(df, \"data/iris.csv\")\n",
    "\n",
    "# Confirmation message\n",
    "print(\"Dataset saved as 'data/iris.csv'\")\n",
    "```"
   ]
  },
  {
   "cell_type": "markdown",
   "metadata": {},
   "source": [
    "# How to Load a Dataset in Python and R {#loading-a-dataset}\n",
    "\n",
    "**Explanation**\n",
    "\n",
    "After saving a dataset, we often need to load it back into our program for analysis. In Python, pandas.read_csv() is commonly used to load CSV files. In R, we use read_csv() or readr::read_csv() to achieve the same result.\n",
    "\n",
    "## Python Code"
   ]
  },
  {
   "cell_type": "code",
   "execution_count": 3,
   "metadata": {},
   "outputs": [
    {
     "name": "stdout",
     "output_type": "stream",
     "text": [
      "   sepal length (cm)  sepal width (cm)  petal length (cm)  petal width (cm)  \\\n",
      "0                5.1               3.5                1.4               0.2   \n",
      "1                4.9               3.0                1.4               0.2   \n",
      "2                4.7               3.2                1.3               0.2   \n",
      "3                4.6               3.1                1.5               0.2   \n",
      "4                5.0               3.6                1.4               0.2   \n",
      "\n",
      "   target species  \n",
      "0       0  setosa  \n",
      "1       0  setosa  \n",
      "2       0  setosa  \n",
      "3       0  setosa  \n",
      "4       0  setosa  \n"
     ]
    }
   ],
   "source": [
    "import pandas as pd\n",
    "\n",
    "# Load dataset from CSV file\n",
    "df = pd.read_csv(\"data/iris.csv\")\n",
    "\n",
    "# Display the first few rows\n",
    "print(df.head())"
   ]
  },
  {
   "cell_type": "markdown",
   "metadata": {},
   "source": [
    "## R Code\n",
    "\n",
    "```{r}\n",
    "# Load necessary library\n",
    "library(readr)\n",
    "\n",
    "# Load dataset from CSV file\n",
    "df <- read_csv(\"data/iris.csv\")\n",
    "\n",
    "# Display the first few rows\n",
    "head(df)\n",
    "```"
   ]
  },
  {
   "cell_type": "markdown",
   "metadata": {},
   "source": [
    "# How to Check the Structure of a Dataset in Python and R {#checking-dataset-structure}\n",
    "\n",
    "**Explanation**\n",
    "\n",
    "Understanding a dataset’s structure helps in selecting the right data processing techniques. In Python, df.info() provides an overview of column names, data types, and missing values. In R, str(df) serves the same purpose.\n",
    "\n",
    "## Python Code"
   ]
  },
  {
   "cell_type": "code",
   "execution_count": null,
   "metadata": {},
   "outputs": [
    {
     "name": "stdout",
     "output_type": "stream",
     "text": [
      "<class 'pandas.core.frame.DataFrame'>\n",
      "RangeIndex: 150 entries, 0 to 149\n",
      "Data columns (total 5 columns):\n",
      " #   Column        Non-Null Count  Dtype  \n",
      "---  ------        --------------  -----  \n",
      " 0   Sepal.Length  150 non-null    float64\n",
      " 1   Sepal.Width   150 non-null    float64\n",
      " 2   Petal.Length  150 non-null    float64\n",
      " 3   Petal.Width   150 non-null    float64\n",
      " 4   Species       150 non-null    object \n",
      "dtypes: float64(4), object(1)\n",
      "memory usage: 6.0+ KB\n",
      "None\n"
     ]
    }
   ],
   "source": [
    "import pandas as pd\n",
    "\n",
    "# Load dataset\n",
    "df = pd.read_csv(\"data/iris.csv\")\n",
    "\n",
    "# Display dataset structure\n",
    "print(df.info())\n"
   ]
  },
  {
   "cell_type": "markdown",
   "metadata": {},
   "source": [
    "## R Code\n",
    "\n",
    "```{r}\n",
    "# Load necessary library\n",
    "library(readr)\n",
    "\n",
    "# Load dataset from CSV file\n",
    "df <- read_csv(\"data/iris.csv\")\n",
    "\n",
    "# Display dataset structure\n",
    "str(df)\n",
    "```"
   ]
  },
  {
   "cell_type": "markdown",
   "metadata": {},
   "source": [
    "# How to View Summary Statistics of a Dataset in Python and R {#summary-statistics}\n",
    "\n",
    "**Explanation**\n",
    "\n",
    "Summary statistics provide insights into the dataset, such as the mean, median, min, max, and quartiles for numerical columns. In Python, df.describe() gives a quick statistical summary. In R, summary(df) does the same.\n",
    "\n",
    "## Python Code"
   ]
  },
  {
   "cell_type": "code",
   "execution_count": 9,
   "metadata": {},
   "outputs": [
    {
     "name": "stdout",
     "output_type": "stream",
     "text": [
      "       Sepal.Length  Sepal.Width  Petal.Length  Petal.Width\n",
      "count    150.000000   150.000000    150.000000   150.000000\n",
      "mean       5.843333     3.057333      3.758000     1.199333\n",
      "std        0.828066     0.435866      1.765298     0.762238\n",
      "min        4.300000     2.000000      1.000000     0.100000\n",
      "25%        5.100000     2.800000      1.600000     0.300000\n",
      "50%        5.800000     3.000000      4.350000     1.300000\n",
      "75%        6.400000     3.300000      5.100000     1.800000\n",
      "max        7.900000     4.400000      6.900000     2.500000\n"
     ]
    }
   ],
   "source": [
    "import pandas as pd\n",
    "\n",
    "# Load dataset\n",
    "df = pd.read_csv(\"data/iris.csv\")\n",
    "\n",
    "# Display summary statistics\n",
    "print(df.describe())"
   ]
  },
  {
   "cell_type": "markdown",
   "metadata": {},
   "source": [
    "## R Code\n",
    "\n",
    "```{r}\n",
    "# Load necessary library\n",
    "library(readr)\n",
    "\n",
    "# Load dataset from CSV file\n",
    "df <- read_csv(\"data/iris.csv\")\n",
    "\n",
    "# Display summary statistics\n",
    "summary(df)\n",
    "```"
   ]
  },
  {
   "cell_type": "markdown",
   "metadata": {},
   "source": [
    "# How to Check for Missing Values in a Dataset in Python and R {#checking-for-missing-values}\n",
    "\n",
    "**Explanation**\n",
    "\n",
    "Missing values can affect data analysis and machine learning models, so it’s important to detect them.\n",
    "\n",
    "- In Python, df.isnull().sum() shows the number of missing values per column.\n",
    "- In R, colSums(is.na(df)) performs a similar check.\n",
    "\n",
    "## Python Code"
   ]
  },
  {
   "cell_type": "code",
   "execution_count": 6,
   "metadata": {},
   "outputs": [
    {
     "name": "stdout",
     "output_type": "stream",
     "text": [
      "sepal length (cm)    0\n",
      "sepal width (cm)     0\n",
      "petal length (cm)    0\n",
      "petal width (cm)     0\n",
      "target               0\n",
      "species              0\n",
      "dtype: int64\n"
     ]
    }
   ],
   "source": [
    "import pandas as pd\n",
    "\n",
    "# Load dataset\n",
    "df = pd.read_csv(\"data/iris.csv\")\n",
    "\n",
    "# Check for missing values\n",
    "print(df.isnull().sum())"
   ]
  },
  {
   "cell_type": "markdown",
   "metadata": {},
   "source": [
    "## R Code\n",
    "\n",
    "```{r}\n",
    "# Load necessary library\n",
    "library(readr)\n",
    "\n",
    "# Load dataset from CSV file\n",
    "df <- read_csv(\"data/iris.csv\")\n",
    "\n",
    "# Check for missing values\n",
    "colSums(is.na(df))\n",
    "```"
   ]
  },
  {
   "cell_type": "markdown",
   "metadata": {},
   "source": [
    "# How to Rename Columns in a Dataset in Python and R {#renaming-columns}\n",
    "\n",
    "**Explanation**\n",
    "\n",
    "Renaming columns makes datasets easier to work with, especially if column names are long or unclear.\n",
    "\n",
    "- In Python, df.rename(columns={}) allows renaming specific columns.\n",
    "- In R, colnames(df) <- c(...) is used to rename all columns at once, or names(df)[index] <- \"new_name\" for renaming specific ones.\n",
    "\n",
    "## Python Code"
   ]
  },
  {
   "cell_type": "code",
   "execution_count": 22,
   "metadata": {},
   "outputs": [
    {
     "name": "stdout",
     "output_type": "stream",
     "text": [
      "   sepal_length  sepal_width  petal_length  petal_width species\n",
      "0           5.1          3.5           1.4          0.2  setosa\n",
      "1           4.9          3.0           1.4          0.2  setosa\n",
      "2           4.7          3.2           1.3          0.2  setosa\n",
      "3           4.6          3.1           1.5          0.2  setosa\n",
      "4           5.0          3.6           1.4          0.2  setosa\n"
     ]
    }
   ],
   "source": [
    "import pandas as pd\n",
    "\n",
    "# Load dataset\n",
    "df = pd.read_csv(\"data/iris.csv\")\n",
    "\n",
    "# Rename specific columns with the correct names\n",
    "df.rename(columns={\"Sepal.Length\": \"sepal_length\", \n",
    "                   \"Sepal.Width\": \"sepal_width\", \n",
    "                   \"Petal.Length\": \"petal_length\", \n",
    "                   \"Petal.Width\": \"petal_width\", \n",
    "                   \"Species\": \"species\"}, inplace=True)\n",
    "\n",
    "# Display the first few rows to confirm the changes\n",
    "print(df.head())"
   ]
  },
  {
   "cell_type": "markdown",
   "metadata": {},
   "source": [
    "## R Code\n",
    "\n",
    "```{r}\n",
    "# Load necessary library\n",
    "library(readr)\n",
    "\n",
    "# Load dataset from CSV file\n",
    "df <- read_csv(\"data/iris.csv\")\n",
    "\n",
    "# Rename all columns\n",
    "colnames(df) <- c(\"sepal_length\", \"sepal_width\", \"petal_length\", \"petal_width\", \"species\")\n",
    "\n",
    "# Display new column names\n",
    "head(df)\n",
    "```"
   ]
  },
  {
   "cell_type": "markdown",
   "metadata": {},
   "source": [
    "# How to Filter Rows in a Dataset in Python and R\n",
    "\n",
    "**Explanation**\n",
    "\n",
    "Filtering allows you to extract specific rows that meet a given condition.\n",
    "\n",
    "- In Python, you can use boolean indexing: df[df[\"column\"] == value].\n",
    "- In R, you can use subset(df, column == value) or df[df$column == value, ]."
   ]
  },
  {
   "cell_type": "code",
   "execution_count": 14,
   "metadata": {},
   "outputs": [
    {
     "name": "stdout",
     "output_type": "stream",
     "text": [
      "   sepal_length  sepal_width  petal_length  petal_width species\n",
      "0           5.1          3.5           1.4          0.2  setosa\n",
      "1           4.9          3.0           1.4          0.2  setosa\n",
      "2           4.7          3.2           1.3          0.2  setosa\n",
      "3           4.6          3.1           1.5          0.2  setosa\n",
      "4           5.0          3.6           1.4          0.2  setosa\n"
     ]
    }
   ],
   "source": [
    "import pandas as pd\n",
    "\n",
    "# Load dataset\n",
    "df = pd.read_csv(\"data/iris.csv\")\n",
    "\n",
    "# Filter rows where species is \"setosa\"\n",
    "filtered_df = df[df[\"species\"] == \"setosa\"]\n",
    "\n",
    "# Display filtered rows\n",
    "print(filtered_df.head())"
   ]
  },
  {
   "cell_type": "markdown",
   "metadata": {},
   "source": [
    "## R Code\n",
    "\n",
    "```{r}\n",
    "# If necessary, install the tidyverse package\n",
    "if(!require(\"tidyverse\")) {install.packages(\"tidyverse\")}\n",
    "\n",
    "# Load the dplyr package from tidyverse\n",
    "library(dplyr)\n",
    "\n",
    "# Load dataset\n",
    "df <- read_csv(\"data/iris.csv\")\n",
    "\n",
    "# Filter rows where species is 'setosa'\n",
    "setosa_df <- filter(df, \"species\" == \"setosa\")\n",
    "\n",
    "# Display the filtered dataset\n",
    "print(setosa_df)\n",
    "```"
   ]
  },
  {
   "cell_type": "markdown",
   "metadata": {},
   "source": [
    "# How to Visualize a Dataset in Python and R\n",
    "\n",
    "**Explanation**\n",
    "\n",
    "Visualization is a powerful way to explore data.\n",
    "\n",
    "- In Python, we can use matplotlib or seaborn for plotting.\n",
    "- In R, ggplot2 is one of the most commonly used packages for visualization.\n",
    "\n",
    "We’ll create a simple scatter plot to visualize the relationship between two features: sepal length and sepal width, and color the points based on the species.\n",
    "\n",
    "## Python Code"
   ]
  },
  {
   "cell_type": "code",
   "execution_count": 24,
   "metadata": {},
   "outputs": [
    {
     "data": {
      "image/png": "[encoded data removed]",
      "text/plain": [
       "<Figure size 640x480 with 1 Axes>"
      ]
     },
     "metadata": {},
     "output_type": "display_data"
    }
   ],
   "source": [
    "import pandas as pd\n",
    "import seaborn as sns\n",
    "import matplotlib.pyplot as plt\n",
    "\n",
    "# Load the dataset\n",
    "df = pd.read_csv(\"data/iris.csv\")\n",
    "\n",
    "# Rename the columns to match the names you expect\n",
    "df.rename(columns={\n",
    "    'Sepal.Length': 'sepal_length', \n",
    "    'Sepal.Width': 'sepal_width', \n",
    "    'Petal.Length': 'petal_length', \n",
    "    'Petal.Width': 'petal_width', \n",
    "    'Species': 'species'}, inplace=True)\n",
    "\n",
    "# Create a scatter plot\n",
    "sns.scatterplot(data=df, x='sepal_length', y='sepal_width', hue='species')\n",
    "\n",
    "# Add title and labels\n",
    "plt.title(\"Sepal Length vs Sepal Width\")\n",
    "plt.xlabel(\"Sepal Length (cm)\")\n",
    "plt.ylabel(\"Sepal Width (cm)\")\n",
    "\n",
    "# Show the plot\n",
    "plt.show()"
   ]
  },
  {
   "cell_type": "markdown",
   "metadata": {},
   "source": [
    "## R Code\n",
    "\n",
    "```{r}\n",
    "# Install and load necessary libraries\n",
    "if (!require(\"ggplot2\")) install.packages(\"ggplot2\")\n",
    "library(ggplot2)\n",
    "if (!require(\"readr\")) install.packages(\"readr\")\n",
    "library(readr)\n",
    "\n",
    "# Load the dataset\n",
    "df <- read_csv(\"data/iris.csv\")\n",
    "\n",
    "# Rename the columns to match the names you expect\n",
    "colnames(df) <- c(\"sepal_length\", \"sepal_width\", \"petal_length\", \"petal_width\", \"species\")\n",
    "\n",
    "# Create a scatter plot\n",
    "ggplot(df, aes(x = sepal_length, y = sepal_width, color = species)) +\n",
    "  geom_point() +\n",
    "  labs(title = \"Sepal Length vs Sepal Width\", \n",
    "       x = \"Sepal Length (cm)\", \n",
    "       y = \"Sepal Width (cm)\") +\n",
    "  theme_bw()\n",
    "```"
   ]
  }
 ],
 "metadata": {
  "kernelspec": {
   "display_name": "base",
   "language": "python",
   "name": "python3"
  },
  "language_info": {
   "codemirror_mode": {
    "name": "ipython",
    "version": 3
   },
   "file_extension": ".py",
   "mimetype": "text/x-python",
   "name": "python",
   "nbconvert_exporter": "python",
   "pygments_lexer": "ipython3",
   "version": "3.11.5"
  }
 },
 "nbformat": 4,
 "nbformat_minor": 2
}
